{
 "cells": [
  {
   "cell_type": "markdown",
   "id": "0aac4d21-e3fb-429f-a1a9-a4218d2520f3",
   "metadata": {},
   "source": [
    "# Data Science Tools And Ecosystem"
   ]
  },
  {
   "cell_type": "markdown",
   "id": "3908ea60-27bf-4b76-b3b1-e4de4a88987e",
   "metadata": {},
   "source": [
    "### In this notebook, Data Science Tools and Ecosystem are summarized."
   ]
  },
  {
   "cell_type": "markdown",
   "id": "912d315e-f63a-438a-bbd6-9bfd0acc4a86",
   "metadata": {},
   "source": [
    "**Objectives:** \n",
    "* Languages for Data Science\n",
    "* Libraries for Data Science\n",
    "* Tools for Data Science "
   ]
  },
  {
   "cell_type": "code",
   "execution_count": null,
   "id": "192b0c7a-c859-4cfa-ae15-f0d6a9f3a550",
   "metadata": {},
   "outputs": [],
   "source": []
  },
  {
   "cell_type": "markdown",
   "id": "b3041ac6-ec6a-4313-baf6-4b6194e51d75",
   "metadata": {},
   "source": [
    "### Some of the popular languages that Data Scientists use are:\n",
    "1. Python\n",
    "2. Scala\n",
    "3. R"
   ]
  },
  {
   "cell_type": "code",
   "execution_count": null,
   "id": "7773a507-6fd6-4291-8136-2b1cc22f470a",
   "metadata": {},
   "outputs": [],
   "source": []
  },
  {
   "cell_type": "markdown",
   "id": "68b64553-bc6a-46ce-9ada-14ca63e7ee3b",
   "metadata": {},
   "source": [
    "# Some of the commonly used libraries used by Data Scientists include:\n",
    "1. Pandas\n",
    "2. Numpy\n",
    "3. Matplotlib\n",
    "4. Sklearn\n"
   ]
  },
  {
   "cell_type": "markdown",
   "id": "fa4a793a-3768-43fa-9be1-ef9821162dfc",
   "metadata": {},
   "source": [
    "| Data Science Tools |\n",
    "|:------------------:| \n",
    "| Jupyter Notebook |\n",
    "|Ibm Watson Studio |\n",
    "| R Studeio |"
   ]
  },
  {
   "cell_type": "markdown",
   "id": "46d76fa4-1604-4595-9f19-82ec637bcb20",
   "metadata": {},
   "source": [
    "### Below are a few examples of evaluating arithmetic expressions in Python\n"
   ]
  },
  {
   "cell_type": "code",
   "execution_count": 9,
   "id": "eb7f25cd-89b7-4124-82f5-c73880dc87d9",
   "metadata": {},
   "outputs": [
    {
     "data": {
      "text/plain": [
       "7"
      ]
     },
     "execution_count": 9,
     "metadata": {},
     "output_type": "execute_result"
    }
   ],
   "source": [
    "#addition\n",
    "3+4"
   ]
  },
  {
   "cell_type": "code",
   "execution_count": 10,
   "id": "6eca5c75-e38c-4215-85f2-7c266e8f85c6",
   "metadata": {},
   "outputs": [
    {
     "data": {
      "text/plain": [
       "22"
      ]
     },
     "execution_count": 10,
     "metadata": {},
     "output_type": "execute_result"
    }
   ],
   "source": [
    "#subtraction\n",
    "45-23"
   ]
  },
  {
   "cell_type": "code",
   "execution_count": 11,
   "id": "55b8f449-118c-49b4-9298-ac476882934a",
   "metadata": {},
   "outputs": [
    {
     "data": {
      "text/plain": [
       "5.0"
      ]
     },
     "execution_count": 11,
     "metadata": {},
     "output_type": "execute_result"
    }
   ],
   "source": [
    "#division\n",
    "45/9"
   ]
  },
  {
   "cell_type": "code",
   "execution_count": 12,
   "id": "f68bc005-2947-4eca-a22b-3c7309b3172d",
   "metadata": {},
   "outputs": [
    {
     "data": {
      "text/plain": [
       "17"
      ]
     },
     "execution_count": 12,
     "metadata": {},
     "output_type": "execute_result"
    }
   ],
   "source": [
    "#This a simple arithmetic expression to mutiply then add integers\n",
    "(3*4)+5"
   ]
  },
  {
   "cell_type": "code",
   "execution_count": 16,
   "id": "73f34012-a9d5-4367-b831-8b4edd2b16c3",
   "metadata": {},
   "outputs": [
    {
     "name": "stdout",
     "output_type": "stream",
     "text": [
      "3.3333333333333335\n"
     ]
    }
   ],
   "source": [
    "#This will convert 200 minutes to hours by diving by 60\n",
    "hours = 200/60\n",
    "print(hours)"
   ]
  },
  {
   "cell_type": "markdown",
   "id": "9b9ed961-62a0-41ce-a877-999dbb57b965",
   "metadata": {},
   "source": [
    "**Author :**\n",
    "Muhammad Usman Ali"
   ]
  },
  {
   "cell_type": "code",
   "execution_count": null,
   "id": "5aad0d73-8132-4f87-9752-4a6c5b491b31",
   "metadata": {},
   "outputs": [],
   "source": []
  }
 ],
 "metadata": {
  "kernelspec": {
   "display_name": "Python 3 (ipykernel)",
   "language": "python",
   "name": "python3"
  },
  "language_info": {
   "codemirror_mode": {
    "name": "ipython",
    "version": 3
   },
   "file_extension": ".py",
   "mimetype": "text/x-python",
   "name": "python",
   "nbconvert_exporter": "python",
   "pygments_lexer": "ipython3",
   "version": "3.12.2"
  }
 },
 "nbformat": 4,
 "nbformat_minor": 5
}
