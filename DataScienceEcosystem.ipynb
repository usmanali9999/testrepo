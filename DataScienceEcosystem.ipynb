{
 "cells": [
  {
   "cell_type": "markdown",
   "id": "2c07e8fe-eb0b-4ba6-a819-0490602161b5",
   "metadata": {},
   "source": [
    "# Data Science Tools and Ecosystem"
   ]
  },
  {
   "cell_type": "markdown",
   "id": "a26640bf-9f5b-4731-a480-64e9fe55a2e3",
   "metadata": {},
   "source": [
    "## In this notebook, Data Science Tools and Ecosystem are summarized"
   ]
  },
  {
   "cell_type": "markdown",
   "id": "838c2127-bd52-4d59-a919-90c885340681",
   "metadata": {},
   "source": [
    "### Some of the popular languages that Data Scientists use are:\n",
    "* R\n",
    "* Python\n",
    "* C++\n",
    "* Julia\n",
    "* Scala"
   ]
  },
  {
   "cell_type": "markdown",
   "id": "4ddbdac6-d28a-4b86-a246-785d1caf68ca",
   "metadata": {},
   "source": [
    "### Some of the commonly used libraries used by Data Scientists include:\n",
    "1. Scipy\n",
    "2. Pandas\n",
    "3. Numpy\n",
    "4. Keras\n",
    "5. Sklearn\n",
    "6. Matplotlib"
   ]
  },
  {
   "cell_type": "markdown",
   "id": "01afabae-ec65-4e37-a4b5-6ba77d016359",
   "metadata": {},
   "source": [
    "|Data Science Tools|\n",
    "|:----------------:| \n",
    "|RStudio|\n",
    "|Apache Spark|\n",
    "|TensorFlow|\n",
    "|Apache Hadoop|"
   ]
  },
  {
   "cell_type": "markdown",
   "id": "c0514927-73f0-4977-94d3-f141deb87181",
   "metadata": {},
   "source": [
    "#### Below are a few examples of evaluating arithmetic expressions in Python\n",
    "* Addition 2+3\n",
    "* Subtration 6-2\n",
    "* Multiplication 3*6\n",
    "* Division 45/9"
   ]
  },
  {
   "cell_type": "code",
   "execution_count": 1,
   "id": "09625e52-edbd-4c65-97e3-231b7c73110a",
   "metadata": {},
   "outputs": [
    {
     "data": {
      "text/plain": [
       "17"
      ]
     },
     "execution_count": 1,
     "metadata": {},
     "output_type": "execute_result"
    }
   ],
   "source": [
    "# This a simple arithmetic expression to mutiply then add integers\n",
    "(3*4)+5"
   ]
  },
  {
   "cell_type": "code",
   "execution_count": 4,
   "id": "7801cc48-abf3-4671-bffd-dd4c912ad7b7",
   "metadata": {},
   "outputs": [
    {
     "name": "stdout",
     "output_type": "stream",
     "text": [
      "3.3333333333333335\n"
     ]
    }
   ],
   "source": [
    "# This will convert 200 minutes to hours by diving by 60\n",
    "minutes = 200\n",
    "hours = minutes/60\n",
    "print(hours)"
   ]
  },
  {
   "cell_type": "markdown",
   "id": "18b452e9-57d7-4998-8615-f6389047c8a3",
   "metadata": {},
   "source": [
    "### Objectives:\n",
    "* popular languages for Data Science\n",
    "* Data Science Tools\n",
    "* Commonly used libraries used by Data Scientists\n",
    "* Data Science Ecosystems"
   ]
  },
  {
   "cell_type": "markdown",
   "id": "0903badb-8236-4577-a7c6-bd1541a2791b",
   "metadata": {},
   "source": [
    "## Author\n",
    "Muhammad usman ali"
   ]
  }
 ],
 "metadata": {
  "kernelspec": {
   "display_name": "Python 3 (ipykernel)",
   "language": "python",
   "name": "python3"
  },
  "language_info": {
   "codemirror_mode": {
    "name": "ipython",
    "version": 3
   },
   "file_extension": ".py",
   "mimetype": "text/x-python",
   "name": "python",
   "nbconvert_exporter": "python",
   "pygments_lexer": "ipython3",
   "version": "3.12.2"
  }
 },
 "nbformat": 4,
 "nbformat_minor": 5
}
